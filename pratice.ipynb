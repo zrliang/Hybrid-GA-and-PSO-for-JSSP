{
 "metadata": {
  "language_info": {
   "codemirror_mode": {
    "name": "ipython",
    "version": 3
   },
   "file_extension": ".py",
   "mimetype": "text/x-python",
   "name": "python",
   "nbconvert_exporter": "python",
   "pygments_lexer": "ipython3",
   "version": "3.7.8-final"
  },
  "orig_nbformat": 2,
  "kernelspec": {
   "name": "python37864bit17881afca6e545c5ada7248e31300bdd",
   "display_name": "Python 3.7.8 64-bit",
   "metadata": {
    "interpreter": {
     "hash": "fecc7229ad774fa19fd101b22e17e742882d1e89970eef6bf6be04bde63233fb"
    }
   }
  }
 },
 "nbformat": 4,
 "nbformat_minor": 2,
 "cells": [
  {
   "cell_type": "code",
   "execution_count": null,
   "metadata": {},
   "outputs": [],
   "source": []
  },
  {
   "cell_type": "code",
   "execution_count": null,
   "metadata": {},
   "outputs": [],
   "source": []
  },
  {
   "cell_type": "code",
   "execution_count": 74,
   "metadata": {},
   "outputs": [
    {
     "output_type": "stream",
     "name": "stdout",
     "text": [
      "2 2\n[[0.69435246 0.83317348 0.4828128  0.35266478 0.99013876 0.25808043\n  0.17893202 0.76511529 0.96083361 0.59063232]\n [0.96979347 0.97123191 0.02744553 0.2649886  0.51506022 0.04126474\n  0.07052008 0.43749784 0.01497459 0.68711079]\n [0.07328816 0.81402416 0.84423275 0.53107754 0.78922715 0.58233791\n  0.25569213 0.15789136 0.14574115 0.20780765]\n [0.78305851 0.06785448 0.7879447  0.22081098 0.0142751  0.67754612\n  0.98404049 0.68879693 0.85723565 0.54316452]\n [0.84324554 0.08149069 0.075824   0.40539834 0.88130895 0.38943729\n  0.9901261  0.12398127 0.0727799  0.19580414]]\n/\n[[0.62296471 0.6556369  0.39301992 0.33806936 0.72828683 0.96677636\n  0.48023656 0.79577742 0.46062431 0.73362886]\n [0.8238427  0.1112961  0.00097574 0.95587772 0.08784992 0.46524997\n  0.2294241  0.39341157 0.17925746 0.29822394]\n [0.64197596 0.67301693 0.73847462 0.28068468 0.33489222 0.75782344\n  0.64037006 0.55828405 0.14637513 0.81081022]\n [0.0098204  0.76936003 0.19207776 0.20137568 0.52671186 0.88736835\n  0.28100431 0.44685041 0.37763292 0.93293548]\n [0.04377143 0.05100537 0.67445776 0.06161125 0.15904079 0.88043769\n  0.70646509 0.39403815 0.6083239  0.86859582]]\n/\n[[0. 0. 0. 0. 0. 0. 0. 0. 0. 0.]\n [0. 0. 0. 0. 0. 0. 0. 0. 0. 0.]\n [0. 0. 0. 0. 0. 0. 0. 0. 0. 0.]\n [0. 0. 0. 0. 0. 0. 0. 0. 0. 0.]\n [0. 0. 0. 0. 0. 0. 0. 0. 0. 0.]]\n/\n[[-7.38743168e-03  1.98786719e-02  4.80251220e-04 -5.36332756e-04\n   3.07534984e-01  9.27575050e-02  3.32550183e-02 -1.82913527e-03\n   5.69671436e-01 -2.71509889e-02]\n [ 1.98731951e-03  2.37535699e+00  1.10028665e-03  1.27641978e-01\n   1.92224073e-01  2.37507102e-01  5.92271735e-02  1.57257766e-03\n   5.05187304e-02  3.89870272e-02]\n [ 4.47141280e-03  1.12474086e-01  1.88423097e-01 -1.02457489e-02\n   6.47481253e-02 -4.75768459e-02 -1.66504005e-02  6.15821216e-03\n   3.05290631e-06  8.28671665e-03]\n [-3.45163364e-02  7.65066012e-02  1.88735211e-02 -2.53973501e-02\n   2.42828531e-03 -1.11432119e-01  2.54622676e-01  7.50157433e-02\n   3.11273569e-02 -2.50319368e-02]\n [ 1.58023566e-02 -1.11075030e-03 -1.62663624e-02 -1.82513957e-01\n   1.19130545e-01  4.40198177e-02  2.39711681e-02  5.21182913e-03\n   3.61159134e-02  8.19327085e-03]]\n/\n[[0.68696502 0.85305215 0.48329305 0.35212845 1.         0.35083794\n  0.21218704 0.76328615 1.         0.56348133]\n [0.97178079 1.         0.02854581 0.39263058 0.70728429 0.27877184\n  0.12974725 0.43907042 0.06549332 0.72609782]\n [0.07775957 0.92649824 1.         0.52083179 0.85397528 0.53476106\n  0.23904173 0.16404957 0.14574421 0.21609437]\n [0.74854218 0.14436108 0.80681822 0.19541363 0.01670339 0.566114\n  1.         0.76381268 0.88836301 0.51813259]\n [0.8590479  0.08037994 0.05955764 0.22288438 1.         0.43345711\n  1.         0.12919309 0.10889581 0.20399741]]\n/\n"
     ]
    }
   ],
   "source": [
    "import random\n",
    "import numpy as np\n",
    "#len(jobs) =5\n",
    "w=0.5\n",
    "c1\n",
    "c2 =2\n",
    "print(c1,c2)\n",
    "\n",
    "population_size=5\n",
    "v_len=10 #*2\n",
    "\n",
    "#模擬pbest & gbest \n",
    "x= np.random.rand(population_size,v_len)\n",
    "pbest = np.random.rand(population_size,v_len)\n",
    "x2 =np.copy(x)\n",
    "\n",
    "v1 = np.zeros((population_size,v_len))\n",
    "\n",
    "v2 =np.copy(v1)\n",
    "\n",
    "for i in range(population_size):\n",
    "    for j in range(v_len):\n",
    "        v2[i][j] = w * v1[i][j] + c1 * random.random() *(pbest[i][j]-x[i][j])*  + c2* random.random()* (pbest[1][j]-x[i][j])\n",
    "\n",
    "\n",
    "for i in range(population_size):\n",
    "    for j in range(v_len):\n",
    "        x2[i][j]=x[i][j]+v2[i][j]\n",
    "\n",
    "        if x2[i][j]<=0 :\n",
    "            x2[i][j]=0\n",
    "        elif x2[i][j]>=1 :\n",
    "            x2[i][j]=1\n",
    "\n",
    "# v3 =np.copy(v2)\n",
    "# for i in range(population_size):\n",
    "#     for j in range(v_len):\n",
    "#         if v2[i][j]<=0 :\n",
    "#             v3[i][j]=0.00001\n",
    "#         elif v2[i][j]>=1 :\n",
    "#             v3[i][j]=0.99999\n",
    "\n",
    "\n",
    "print(x)\n",
    "print(\"/\")\n",
    "print(pbest)   \n",
    "print(\"/\")     \n",
    "print(v1)\n",
    "print(\"/\")\n",
    "print(v2)\n",
    "print(\"/\")\n",
    "print(x2)\n",
    "print(\"/\")"
   ]
  },
  {
   "cell_type": "code",
   "execution_count": null,
   "metadata": {},
   "outputs": [],
   "source": []
  },
  {
   "cell_type": "code",
   "execution_count": 63,
   "metadata": {},
   "outputs": [
    {
     "output_type": "stream",
     "name": "stdout",
     "text": [
      "1e-06\n"
     ]
    },
    {
     "output_type": "execute_result",
     "data": {
      "text/plain": [
       "False"
      ]
     },
     "metadata": {},
     "execution_count": 63
    }
   ],
   "source": [
    "a=0.5\n",
    "b=0.000001\n",
    "\n",
    "print(b)\n",
    "b==0"
   ]
  },
  {
   "cell_type": "code",
   "execution_count": 75,
   "metadata": {},
   "outputs": [
    {
     "output_type": "execute_result",
     "data": {
      "text/plain": [
       "14"
      ]
     },
     "metadata": {},
     "execution_count": 75
    }
   ],
   "source": [
    "a=5\n",
    "b=9\n",
    "a=a+b\n",
    "a"
   ]
  },
  {
   "cell_type": "code",
   "execution_count": null,
   "metadata": {},
   "outputs": [],
   "source": [
    "population_size=5\n",
    "v_len=10 #*2\n",
    "\n",
    "#模擬pbest & gbest \n",
    "chromosomes = []\n",
    "\n",
    "temp =np.copy(chromosomes)\n",
    "pbest = np.random.rand(population_size,v_len)"
   ]
  },
  {
   "cell_type": "code",
   "execution_count": 5,
   "metadata": {
    "tags": []
   },
   "outputs": [
    {
     "output_type": "stream",
     "name": "stdout",
     "text": "[0, 2, 1, 2, 5]\n1\n"
    }
   ],
   "source": [
    "from copy import deepcopy\n",
    "chromosomes = [1,2,3,4,5]\n",
    "pbest=[0,2,1,2,6]\n",
    "gbest=deepcopy(chromosomes[0])\n",
    "\n",
    "for p in range(len(chromosomes)):\n",
    "    if chromosomes[p]< pbest[p] :\n",
    "        pbest[p] = deepcopy(chromosomes[p])\n",
    "print(pbest)\n",
    "print(gbest)"
   ]
  },
  {
   "cell_type": "code",
   "execution_count": 10,
   "metadata": {},
   "outputs": [
    {
     "output_type": "execute_result",
     "data": {
      "text/plain": "10"
     },
     "metadata": {},
     "execution_count": 10
    }
   ],
   "source": [
    "population_size =21\n",
    "PSO_size = int(population_size/2)\n",
    "PSO_size"
   ]
  },
  {
   "cell_type": "code",
   "execution_count": null,
   "metadata": {},
   "outputs": [],
   "source": [
    "# 分成前後半段\n"
   ]
  }
 ]
}